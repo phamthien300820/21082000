{
  "nbformat": 4,
  "nbformat_minor": 0,
  "metadata": {
    "colab": {
      "name": "Buoi 2.ipynb",
      "provenance": [],
      "authorship_tag": "ABX9TyPhVEBQA5TzOpQ32c+b0H7l",
      "include_colab_link": true
    },
    "kernelspec": {
      "name": "python3",
      "display_name": "Python 3"
    }
  },
  "cells": [
    {
      "cell_type": "markdown",
      "metadata": {
        "id": "view-in-github",
        "colab_type": "text"
      },
      "source": [
        "<a href=\"https://colab.research.google.com/github/phamthien300820/21082000/blob/master/Buoi_2.ipynb\" target=\"_parent\"><img src=\"https://colab.research.google.com/assets/colab-badge.svg\" alt=\"Open In Colab\"/></a>"
      ]
    },
    {
      "cell_type": "markdown",
      "metadata": {
        "id": "PoBPtRRaPV3b",
        "colab_type": "text"
      },
      "source": [
        "## If,Elsem Elif"
      ]
    },
    {
      "cell_type": "code",
      "metadata": {
        "id": "DArjWcFmPURr",
        "colab_type": "code",
        "colab": {
          "base_uri": "https://localhost:8080/",
          "height": 35
        },
        "outputId": "89897049-b0fd-4670-e43b-822f28dd8604"
      },
      "source": [
        "x = 7\n",
        "y = 5\n",
        "if (x > y ):\n",
        "  print('x lon hon y')\n",
        "else:\n",
        "  print('y lon hon x')"
      ],
      "execution_count": 1,
      "outputs": [
        {
          "output_type": "stream",
          "text": [
            "x lon hon y\n"
          ],
          "name": "stdout"
        }
      ]
    },
    {
      "cell_type": "code",
      "metadata": {
        "id": "XPZSFOEyPwW8",
        "colab_type": "code",
        "colab": {
          "base_uri": "https://localhost:8080/",
          "height": 35
        },
        "outputId": "be8a2d22-3232-418a-9f94-1cddee4dfe23"
      },
      "source": [
        "x = 5\n",
        "y = 5\n",
        "if (x > y ):\n",
        "  print('x lon hon y')\n",
        "elif x == y:\n",
        "  print('X bang y')\n",
        "else:\n",
        "  print('y lon hon x')"
      ],
      "execution_count": 2,
      "outputs": [
        {
          "output_type": "stream",
          "text": [
            "X bang y\n"
          ],
          "name": "stdout"
        }
      ]
    },
    {
      "cell_type": "markdown",
      "metadata": {
        "id": "jnsI2zsYP_E-",
        "colab_type": "text"
      },
      "source": [
        "##For"
      ]
    },
    {
      "cell_type": "code",
      "metadata": {
        "id": "vA8_NpV5QB-q",
        "colab_type": "code",
        "colab": {
          "base_uri": "https://localhost:8080/",
          "height": 266
        },
        "outputId": "fbea48be-25a8-4542-f722-b25dac710220"
      },
      "source": [
        "my_arr = [1,3, 4, 5]\n",
        "for nb in my_arr:\n",
        "  print(nb)\n",
        "\n",
        "\"\"\"range(start, stop, step)\"\"\"\n",
        "for i in range(0, 100, 25):\n",
        "  if i%2 == 0:\n",
        "    print(i)\n",
        "\"\"\"break\"\"\"\n",
        "for i in range(0,10):\n",
        "  if i > 7 :\n",
        "    break\n",
        "  print(i)"
      ],
      "execution_count": 10,
      "outputs": [
        {
          "output_type": "stream",
          "text": [
            "1\n",
            "3\n",
            "4\n",
            "5\n",
            "0\n",
            "50\n",
            "0\n",
            "1\n",
            "2\n",
            "3\n",
            "4\n",
            "5\n",
            "6\n",
            "7\n"
          ],
          "name": "stdout"
        }
      ]
    },
    {
      "cell_type": "markdown",
      "metadata": {
        "id": "ukuicOy1RSty",
        "colab_type": "text"
      },
      "source": [
        "##While"
      ]
    },
    {
      "cell_type": "code",
      "metadata": {
        "id": "wcoIbUhRRU-f",
        "colab_type": "code",
        "colab": {
          "base_uri": "https://localhost:8080/",
          "height": 106
        },
        "outputId": "83337b59-e67a-4b1e-b28c-ac2e53c46786"
      },
      "source": [
        "i=0\n",
        "while i < 5:\n",
        "    print(i)\n",
        "    i += 1"
      ],
      "execution_count": 13,
      "outputs": [
        {
          "output_type": "stream",
          "text": [
            "0\n",
            "1\n",
            "2\n",
            "3\n",
            "4\n"
          ],
          "name": "stdout"
        }
      ]
    },
    {
      "cell_type": "markdown",
      "metadata": {
        "id": "M9dSuw_jRhPe",
        "colab_type": "text"
      },
      "source": [
        "#np.where\n"
      ]
    },
    {
      "cell_type": "code",
      "metadata": {
        "id": "LRhMIV6uRjzG",
        "colab_type": "code",
        "colab": {}
      },
      "source": [
        "import numpy as np\n"
      ],
      "execution_count": 0,
      "outputs": []
    },
    {
      "cell_type": "code",
      "metadata": {
        "id": "cb8EG2YgRnVn",
        "colab_type": "code",
        "colab": {
          "base_uri": "https://localhost:8080/",
          "height": 35
        },
        "outputId": "a651ea0f-9bff-4bf7-d12f-95514c75b8f3"
      },
      "source": [
        "a = [1, 2, 3, 4, 5]\n",
        "a_nd = np.array(a)\n",
        "indexes = a_nd % 2 == 0\n",
        "a_nd[indexes]"
      ],
      "execution_count": 19,
      "outputs": [
        {
          "output_type": "execute_result",
          "data": {
            "text/plain": [
              "array([2, 4])"
            ]
          },
          "metadata": {
            "tags": []
          },
          "execution_count": 19
        }
      ]
    },
    {
      "cell_type": "code",
      "metadata": {
        "id": "N1DIqMsPSSnr",
        "colab_type": "code",
        "colab": {
          "base_uri": "https://localhost:8080/",
          "height": 35
        },
        "outputId": "7a79bb97-6643-4a19-bafe-118cec2fc099"
      },
      "source": [
        "np.where(a_nd % 2 == 0, 0, a_nd)"
      ],
      "execution_count": 23,
      "outputs": [
        {
          "output_type": "execute_result",
          "data": {
            "text/plain": [
              "array([1, 0, 3, 0, 5])"
            ]
          },
          "metadata": {
            "tags": []
          },
          "execution_count": 23
        }
      ]
    },
    {
      "cell_type": "markdown",
      "metadata": {
        "id": "8gNPVfBITaYI",
        "colab_type": "text"
      },
      "source": [
        "##Function"
      ]
    },
    {
      "cell_type": "code",
      "metadata": {
        "id": "Npm7aBhATeGn",
        "colab_type": "code",
        "colab": {
          "base_uri": "https://localhost:8080/",
          "height": 35
        },
        "outputId": "70200fb9-0707-41bd-db2a-f84a36beea21"
      },
      "source": [
        "def func1 (arg1, arg2):\n",
        "  return arg1 + arg2\n",
        "func1(1,2)"
      ],
      "execution_count": 24,
      "outputs": [
        {
          "output_type": "execute_result",
          "data": {
            "text/plain": [
              "3"
            ]
          },
          "metadata": {
            "tags": []
          },
          "execution_count": 24
        }
      ]
    },
    {
      "cell_type": "code",
      "metadata": {
        "id": "dt0ekQrTTv1I",
        "colab_type": "code",
        "colab": {}
      },
      "source": [
        "def func1(arg1 , arg2, sq=False):\n",
        "  if sq:\n",
        "      return (arg1 + arg2)**2\n",
        "  else :\n",
        "    return arg1"
      ],
      "execution_count": 0,
      "outputs": []
    },
    {
      "cell_type": "code",
      "metadata": {
        "id": "Ggo5jcGcURQc",
        "colab_type": "code",
        "colab": {}
      },
      "source": [
        "def sum_(*args):\n",
        "  print(type(args))\n",
        "  return sum(args)"
      ],
      "execution_count": 0,
      "outputs": []
    },
    {
      "cell_type": "code",
      "metadata": {
        "id": "jia1AJH8UeIH",
        "colab_type": "code",
        "colab": {
          "base_uri": "https://localhost:8080/",
          "height": 52
        },
        "outputId": "09937e50-13ad-4c13-9341-8aa57acbe9f6"
      },
      "source": [
        "sum_(1, 2, 4, 4)"
      ],
      "execution_count": 32,
      "outputs": [
        {
          "output_type": "stream",
          "text": [
            "<class 'tuple'>\n"
          ],
          "name": "stdout"
        },
        {
          "output_type": "execute_result",
          "data": {
            "text/plain": [
              "11"
            ]
          },
          "metadata": {
            "tags": []
          },
          "execution_count": 32
        }
      ]
    },
    {
      "cell_type": "markdown",
      "metadata": {
        "id": "tx1K-zZrU5AH",
        "colab_type": "text"
      },
      "source": [
        "##argument list, keyword argument <==> dictionary"
      ]
    },
    {
      "cell_type": "code",
      "metadata": {
        "id": "2-Bd_5vdUr4u",
        "colab_type": "code",
        "colab": {}
      },
      "source": [
        "def sum_(**kwargs):\n",
        "  print(type(kwargs))\n",
        "  print(kwargs.keys())\n",
        "  print(kwargs.values())"
      ],
      "execution_count": 0,
      "outputs": []
    },
    {
      "cell_type": "code",
      "metadata": {
        "id": "0GKMFX09VYCG",
        "colab_type": "code",
        "colab": {
          "base_uri": "https://localhost:8080/",
          "height": 70
        },
        "outputId": "c5e128b6-7969-4972-f494-0341bbd91bdc"
      },
      "source": [
        "sum_(a = 1, b = 2, c = 3 )"
      ],
      "execution_count": 40,
      "outputs": [
        {
          "output_type": "stream",
          "text": [
            "<class 'dict'>\n",
            "dict_keys(['a', 'b', 'c'])\n",
            "dict_values([1, 2, 3])\n"
          ],
          "name": "stdout"
        }
      ]
    },
    {
      "cell_type": "markdown",
      "metadata": {
        "id": "rr-yXdFGVjve",
        "colab_type": "text"
      },
      "source": [
        "##Tham so truyen vao cua ham la mot ham khac"
      ]
    },
    {
      "cell_type": "code",
      "metadata": {
        "id": "oTopKSmtVsWH",
        "colab_type": "code",
        "colab": {}
      },
      "source": [
        "s = lambda a, b: a+b"
      ],
      "execution_count": 0,
      "outputs": []
    },
    {
      "cell_type": "code",
      "metadata": {
        "id": "BzUvdBCZVwzR",
        "colab_type": "code",
        "colab": {
          "base_uri": "https://localhost:8080/",
          "height": 35
        },
        "outputId": "904f78fc-dff1-449e-cbea-701f293558d6"
      },
      "source": [
        "s(5, 10)"
      ],
      "execution_count": 45,
      "outputs": [
        {
          "output_type": "execute_result",
          "data": {
            "text/plain": [
              "15"
            ]
          },
          "metadata": {
            "tags": []
          },
          "execution_count": 45
        }
      ]
    },
    {
      "cell_type": "code",
      "metadata": {
        "id": "FgNOsgdDV_e8",
        "colab_type": "code",
        "colab": {}
      },
      "source": [
        "square = lambda a: a**3\n",
        "a = map(square, [1, 2, 3]) "
      ],
      "execution_count": 0,
      "outputs": []
    },
    {
      "cell_type": "code",
      "metadata": {
        "id": "iQZI2FZaWSal",
        "colab_type": "code",
        "colab": {
          "base_uri": "https://localhost:8080/",
          "height": 35
        },
        "outputId": "770c68eb-a8d6-4590-9c74-21c5d03a03b0"
      },
      "source": [
        "a"
      ],
      "execution_count": 47,
      "outputs": [
        {
          "output_type": "execute_result",
          "data": {
            "text/plain": [
              "<map at 0x7ff3003f86a0>"
            ]
          },
          "metadata": {
            "tags": []
          },
          "execution_count": 47
        }
      ]
    },
    {
      "cell_type": "code",
      "metadata": {
        "id": "W86fJInwWVWC",
        "colab_type": "code",
        "colab": {
          "base_uri": "https://localhost:8080/",
          "height": 70
        },
        "outputId": "ae69a0df-9692-440d-c02b-33d5503eb3a3"
      },
      "source": [
        "for result in a:\n",
        "  print(result)"
      ],
      "execution_count": 48,
      "outputs": [
        {
          "output_type": "stream",
          "text": [
            "1\n",
            "8\n",
            "27\n"
          ],
          "name": "stdout"
        }
      ]
    },
    {
      "cell_type": "code",
      "metadata": {
        "id": "OoTwTVGZWb3E",
        "colab_type": "code",
        "colab": {}
      },
      "source": [
        "Mot khi da duyet ket qua tu map thi se khong con trong bo nho nua"
      ],
      "execution_count": 0,
      "outputs": []
    },
    {
      "cell_type": "code",
      "metadata": {
        "id": "GBKtp0kOWhZW",
        "colab_type": "code",
        "colab": {
          "base_uri": "https://localhost:8080/",
          "height": 35
        },
        "outputId": "c8ba1023-98a2-4978-eaf9-b50e6c0a7063"
      },
      "source": [
        "list(a)"
      ],
      "execution_count": 51,
      "outputs": [
        {
          "output_type": "execute_result",
          "data": {
            "text/plain": [
              "[]"
            ]
          },
          "metadata": {
            "tags": []
          },
          "execution_count": 51
        }
      ]
    },
    {
      "cell_type": "markdown",
      "metadata": {
        "id": "qTaRjYzBW925",
        "colab_type": "text"
      },
      "source": [
        "##List, dict"
      ]
    },
    {
      "cell_type": "code",
      "metadata": {
        "id": "nkYxQDBHXBB7",
        "colab_type": "code",
        "colab": {
          "base_uri": "https://localhost:8080/",
          "height": 35
        },
        "outputId": "7392d213-a54a-464c-9ae8-e784ddde10c7"
      },
      "source": [
        "a = []\n",
        "for i in range(1, 10):\n",
        " a.append(i)\n",
        "a = list(range(1, 11))\n",
        "\n",
        "a = [i for i in range(1, 11) if not i % 2 == 0]\n",
        "a"
      ],
      "execution_count": 56,
      "outputs": [
        {
          "output_type": "execute_result",
          "data": {
            "text/plain": [
              "[1, 3, 5, 7, 9]"
            ]
          },
          "metadata": {
            "tags": []
          },
          "execution_count": 56
        }
      ]
    },
    {
      "cell_type": "code",
      "metadata": {
        "id": "PSg-N7u4XlAA",
        "colab_type": "code",
        "colab": {
          "base_uri": "https://localhost:8080/",
          "height": 35
        },
        "outputId": "b97bc1db-61a8-40c1-f221-d974b83dc815"
      },
      "source": [
        "[i*j for i in range(1,3) for j in range(1,4)]"
      ],
      "execution_count": 57,
      "outputs": [
        {
          "output_type": "execute_result",
          "data": {
            "text/plain": [
              "[1, 2, 3, 2, 4, 6]"
            ]
          },
          "metadata": {
            "tags": []
          },
          "execution_count": 57
        }
      ]
    },
    {
      "cell_type": "code",
      "metadata": {
        "id": "gepBJ7skYBPx",
        "colab_type": "code",
        "colab": {}
      },
      "source": [
        "sv ={\n",
        "    0: 1,\n",
        "    1: 2,\n",
        "    2: 3\n",
        "}"
      ],
      "execution_count": 0,
      "outputs": []
    },
    {
      "cell_type": "code",
      "metadata": {
        "id": "Rx4OQxPSYM69",
        "colab_type": "code",
        "colab": {
          "base_uri": "https://localhost:8080/",
          "height": 35
        },
        "outputId": "31175bea-1f8e-44cb-fee3-55a65b4ca0dc"
      },
      "source": [
        "sv = {i: i+1 for i in range(0,8)}\n",
        "sv"
      ],
      "execution_count": 60,
      "outputs": [
        {
          "output_type": "execute_result",
          "data": {
            "text/plain": [
              "{0: 1, 1: 2, 2: 3, 3: 4, 4: 5, 5: 6, 6: 7, 7: 8}"
            ]
          },
          "metadata": {
            "tags": []
          },
          "execution_count": 60
        }
      ]
    },
    {
      "cell_type": "code",
      "metadata": {
        "id": "mJ0hsz-nYkBP",
        "colab_type": "code",
        "colab": {}
      },
      "source": [
        "a = [0, 1, 2, 3, 4, 5]\n",
        "b = [1, 2, 3, 4, 5, 6] "
      ],
      "execution_count": 0,
      "outputs": []
    },
    {
      "cell_type": "markdown",
      "metadata": {
        "id": "5YG_DCJJYsmf",
        "colab_type": "text"
      },
      "source": [
        "# Tu khoa zip\n"
      ]
    },
    {
      "cell_type": "code",
      "metadata": {
        "id": "THdWXTY_Yvlr",
        "colab_type": "code",
        "colab": {
          "base_uri": "https://localhost:8080/",
          "height": 35
        },
        "outputId": "809b993c-084a-4e7b-9a0c-478c5f56d5a3"
      },
      "source": [
        "list(zip(a, b))"
      ],
      "execution_count": 63,
      "outputs": [
        {
          "output_type": "execute_result",
          "data": {
            "text/plain": [
              "[(0, 1), (1, 2), (2, 3), (3, 4), (4, 5), (5, 6)]"
            ]
          },
          "metadata": {
            "tags": []
          },
          "execution_count": 63
        }
      ]
    },
    {
      "cell_type": "code",
      "metadata": {
        "id": "Tbd_2vZFZVax",
        "colab_type": "code",
        "colab": {
          "base_uri": "https://localhost:8080/",
          "height": 124
        },
        "outputId": "28909abe-4c75-4bde-ace9-2d4588b94674"
      },
      "source": [
        "for (a_i, b_i) in zip(a, b):\n",
        "  print (a_i, b_i)"
      ],
      "execution_count": 64,
      "outputs": [
        {
          "output_type": "stream",
          "text": [
            "0 1\n",
            "1 2\n",
            "2 3\n",
            "3 4\n",
            "4 5\n",
            "5 6\n"
          ],
          "name": "stdout"
        }
      ]
    }
  ]
}